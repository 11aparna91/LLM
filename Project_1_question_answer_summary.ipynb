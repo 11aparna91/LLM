{
  "nbformat": 4,
  "nbformat_minor": 0,
  "metadata": {
    "colab": {
      "provenance": []
    },
    "kernelspec": {
      "name": "python3",
      "display_name": "Python 3"
    },
    "language_info": {
      "name": "python"
    }
  },
  "cells": [
    {
      "cell_type": "code",
      "execution_count": 1,
      "metadata": {
        "colab": {
          "base_uri": "https://localhost:8080/"
        },
        "id": "jJhhHevgJWzt",
        "outputId": "74118b41-c4df-4020-f4d3-1bae28400c7a"
      },
      "outputs": [
        {
          "output_type": "stream",
          "name": "stdout",
          "text": [
            "Collecting PyMuPDF\n",
            "  Downloading PyMuPDF-1.24.4-cp310-none-manylinux2014_x86_64.whl (3.5 MB)\n",
            "\u001b[2K     \u001b[90m━━━━━━━━━━━━━━━━━━━━━━━━━━━━━━━━━━━━━━━━\u001b[0m \u001b[32m3.5/3.5 MB\u001b[0m \u001b[31m12.0 MB/s\u001b[0m eta \u001b[36m0:00:00\u001b[0m\n",
            "\u001b[?25hRequirement already satisfied: transformers in /usr/local/lib/python3.10/dist-packages (4.41.0)\n",
            "Collecting PyMuPDFb==1.24.3 (from PyMuPDF)\n",
            "  Downloading PyMuPDFb-1.24.3-py3-none-manylinux2014_x86_64.manylinux_2_17_x86_64.whl (15.8 MB)\n",
            "\u001b[2K     \u001b[90m━━━━━━━━━━━━━━━━━━━━━━━━━━━━━━━━━━━━━━━━\u001b[0m \u001b[32m15.8/15.8 MB\u001b[0m \u001b[31m17.8 MB/s\u001b[0m eta \u001b[36m0:00:00\u001b[0m\n",
            "\u001b[?25hRequirement already satisfied: filelock in /usr/local/lib/python3.10/dist-packages (from transformers) (3.14.0)\n",
            "Requirement already satisfied: huggingface-hub<1.0,>=0.23.0 in /usr/local/lib/python3.10/dist-packages (from transformers) (0.23.1)\n",
            "Requirement already satisfied: numpy>=1.17 in /usr/local/lib/python3.10/dist-packages (from transformers) (1.25.2)\n",
            "Requirement already satisfied: packaging>=20.0 in /usr/local/lib/python3.10/dist-packages (from transformers) (24.0)\n",
            "Requirement already satisfied: pyyaml>=5.1 in /usr/local/lib/python3.10/dist-packages (from transformers) (6.0.1)\n",
            "Requirement already satisfied: regex!=2019.12.17 in /usr/local/lib/python3.10/dist-packages (from transformers) (2023.12.25)\n",
            "Requirement already satisfied: requests in /usr/local/lib/python3.10/dist-packages (from transformers) (2.31.0)\n",
            "Requirement already satisfied: tokenizers<0.20,>=0.19 in /usr/local/lib/python3.10/dist-packages (from transformers) (0.19.1)\n",
            "Requirement already satisfied: safetensors>=0.4.1 in /usr/local/lib/python3.10/dist-packages (from transformers) (0.4.3)\n",
            "Requirement already satisfied: tqdm>=4.27 in /usr/local/lib/python3.10/dist-packages (from transformers) (4.66.4)\n",
            "Requirement already satisfied: fsspec>=2023.5.0 in /usr/local/lib/python3.10/dist-packages (from huggingface-hub<1.0,>=0.23.0->transformers) (2023.6.0)\n",
            "Requirement already satisfied: typing-extensions>=3.7.4.3 in /usr/local/lib/python3.10/dist-packages (from huggingface-hub<1.0,>=0.23.0->transformers) (4.11.0)\n",
            "Requirement already satisfied: charset-normalizer<4,>=2 in /usr/local/lib/python3.10/dist-packages (from requests->transformers) (3.3.2)\n",
            "Requirement already satisfied: idna<4,>=2.5 in /usr/local/lib/python3.10/dist-packages (from requests->transformers) (3.7)\n",
            "Requirement already satisfied: urllib3<3,>=1.21.1 in /usr/local/lib/python3.10/dist-packages (from requests->transformers) (2.0.7)\n",
            "Requirement already satisfied: certifi>=2017.4.17 in /usr/local/lib/python3.10/dist-packages (from requests->transformers) (2024.2.2)\n",
            "Installing collected packages: PyMuPDFb, PyMuPDF\n",
            "Successfully installed PyMuPDF-1.24.4 PyMuPDFb-1.24.3\n"
          ]
        }
      ],
      "source": [
        "pip install PyMuPDF transformers\n"
      ]
    },
    {
      "cell_type": "code",
      "source": [
        "import fitz  # PyMuPDF\n",
        "from transformers import pipeline\n",
        "\n",
        "# Function to extract text from PDF\n",
        "def extract_text_from_pdf(pdf_path):\n",
        "    # Open the PDF file\n",
        "    pdf_document = fitz.open(pdf_path)\n",
        "    text = \"\"\n",
        "\n",
        "    # Iterate through each page\n",
        "    for page_num in range(pdf_document.page_count):\n",
        "        page = pdf_document.load_page(page_num)\n",
        "        text += page.get_text()\n",
        "\n",
        "    return text\n",
        "\n",
        "# Function to use a language model on the extracted text\n",
        "def process_text_with_llm(text):\n",
        "    # Initialize the language model pipeline\n",
        "    llm_pipeline = pipeline(\"summarization\")  # You can change this to another task like \"question-answering\", \"text-generation\", etc.\n",
        "\n",
        "    # Process the text with the LLM\n",
        "    summary = llm_pipeline(text, max_length=21996, min_length=30, do_sample=False)\n",
        "\n",
        "    return summary\n",
        "\n",
        "# Main function\n",
        "def main():\n",
        "    pdf_path = 'test_ai.pdf'  # Replace with your PDF file path\n",
        "    text = extract_text_from_pdf(pdf_path)\n",
        "    print(\"Extracted Text:\\n\", text)\n",
        "\n",
        "    summary = process_text_with_llm(text)\n",
        "    print(\"Summary:\\n\", summary)\n",
        "\n",
        "if __name__ == \"__main__\":\n",
        "    main()\n"
      ],
      "metadata": {
        "colab": {
          "base_uri": "https://localhost:8080/"
        },
        "id": "oTvGrTf6JeuE",
        "outputId": "f368adb9-2915-4648-ae29-ea9c014e19fc"
      },
      "execution_count": 7,
      "outputs": [
        {
          "output_type": "stream",
          "name": "stderr",
          "text": [
            "No model was supplied, defaulted to sshleifer/distilbart-cnn-12-6 and revision a4f8f3e (https://huggingface.co/sshleifer/distilbart-cnn-12-6).\n",
            "Using a pipeline without specifying a model name and revision in production is not recommended.\n"
          ]
        },
        {
          "output_type": "stream",
          "name": "stdout",
          "text": [
            "Extracted Text:\n",
            " Driving a Car: Basics and Safety Tips \n",
            " \n",
            "Driving a car involves several key steps and safety measures to ensure a smooth and safe journey. \n",
            "Here are the basics: \n",
            " \n",
            "1. **Getting Started**: \n",
            "   - Adjust your seat and mirrors for optimal visibility and comfort. \n",
            "   - Fasten your seatbelt before starting the engine. \n",
            " \n",
            "2. **Starting the Car**: \n",
            "   - Insert the key into the ignition and turn it to start the engine. \n",
            "   - Check your dashboard for any warning lights and ensure all systems are functioning properly. \n",
            " \n",
            "3. **Using the Controls**: \n",
            "   - Familiarize yourself with the location and operation of essential controls, including the steering \n",
            "wheel, pedals (accelerator, brake, and clutch if manual), indicators, and headlights. \n",
            "   - Use your mirrors to check for any obstacles or other vehicles around you. \n",
            " \n",
            "4. **Driving Safely**: \n",
            "   - Always observe speed limits and road signs. \n",
            "   - Maintain a safe following distance from the vehicle in front of you. \n",
            "   - Use indicators to signal your intentions to other drivers. \n",
            "   - Be aware of pedestrians, cyclists, and other road users. \n",
            "   - Avoid distractions such as using your phone while driving. \n",
            " \n",
            "5. **Parking**: \n",
            "   - Find a safe and legal parking spot. \n",
            "   - Use your mirrors and signals to park the car safely. \n",
            "   - Turn off the engine, apply the parking brake, and lock the car. \n",
            " \n",
            "By following these basic steps and safety tips, you can ensure a safer driving experience for yourself \n",
            "and others on the road. \n",
            "\n"
          ]
        },
        {
          "output_type": "stream",
          "name": "stderr",
          "text": [
            "/usr/local/lib/python3.10/dist-packages/huggingface_hub/file_download.py:1132: FutureWarning: `resume_download` is deprecated and will be removed in version 1.0.0. Downloads always resume when possible. If you want to force a new download, use `force_download=True`.\n",
            "  warnings.warn(\n",
            "Your max_length is set to 21996, but your input_length is only 391. Since this is a summarization task, where outputs shorter than the input are typically wanted, you might consider decreasing max_length manually, e.g. summarizer('...', max_length=195)\n"
          ]
        },
        {
          "output_type": "stream",
          "name": "stdout",
          "text": [
            "Summary:\n",
            " [{'summary_text': ' Driving a car involves several key steps and safety measures to ensure a smooth and safe journey . The basics include starting the engine, using the steering wheel, pedals, indicators, and headlights .'}]\n"
          ]
        }
      ]
    },
    {
      "cell_type": "code",
      "source": [],
      "metadata": {
        "id": "p9J9t0EVRRcO"
      },
      "execution_count": null,
      "outputs": []
    },
    {
      "cell_type": "code",
      "source": [
        "import fitz  # PyMuPDF\n",
        "from transformers import pipeline\n",
        "\n",
        "# Function to extract text from PDF\n",
        "def extract_text_from_pdf(pdf_path):\n",
        "    # Open the PDF file\n",
        "    pdf_document = fitz.open(pdf_path)\n",
        "    text = \"\"\n",
        "\n",
        "    # Iterate through each page\n",
        "    for page_num in range(pdf_document.page_count):\n",
        "        page = pdf_document.load_page(page_num)\n",
        "        text += page.get_text()\n",
        "\n",
        "    return text\n",
        "\n",
        "# Function to use a language model on the extracted text\n",
        "def process_text_with_llm(text):\n",
        "    # Initialize the language model pipeline\n",
        "    llm_pipeline = pipeline(\"question-answering\")  # You can change this to another task like \"question-answering\", \"text-generation\", etc.\n",
        "\n",
        "    # Process the text with the LLM\n",
        "    question = \"how to find parking?\"\n",
        "    answer = llm_pipeline(question=question, context=text)\n",
        "\n",
        "    return answer\n",
        "\n",
        "# Main function\n",
        "def main():\n",
        "    pdf_path = 'test_ai.pdf'  # Replace with your PDF file path\n",
        "    text = extract_text_from_pdf(pdf_path)\n",
        "    print(\"Extracted Text:\\n\", text)\n",
        "\n",
        "    answer = process_text_with_llm(text)\n",
        "    print(\"Answer:\\n\", answer)\n",
        "\n",
        "if __name__ == \"__main__\":\n",
        "    main()\n"
      ],
      "metadata": {
        "colab": {
          "base_uri": "https://localhost:8080/"
        },
        "outputId": "6d9deb5d-c702-4ab3-a381-41a5aa30b5db",
        "id": "_OPjeluoRR8U"
      },
      "execution_count": 12,
      "outputs": [
        {
          "output_type": "stream",
          "name": "stderr",
          "text": [
            "No model was supplied, defaulted to distilbert/distilbert-base-cased-distilled-squad and revision 626af31 (https://huggingface.co/distilbert/distilbert-base-cased-distilled-squad).\n",
            "Using a pipeline without specifying a model name and revision in production is not recommended.\n"
          ]
        },
        {
          "output_type": "stream",
          "name": "stdout",
          "text": [
            "Extracted Text:\n",
            " Driving a Car: Basics and Safety Tips \n",
            " \n",
            "Driving a car involves several key steps and safety measures to ensure a smooth and safe journey. \n",
            "Here are the basics: \n",
            " \n",
            "1. **Getting Started**: \n",
            "   - Adjust your seat and mirrors for optimal visibility and comfort. \n",
            "   - Fasten your seatbelt before starting the engine. \n",
            " \n",
            "2. **Starting the Car**: \n",
            "   - Insert the key into the ignition and turn it to start the engine. \n",
            "   - Check your dashboard for any warning lights and ensure all systems are functioning properly. \n",
            " \n",
            "3. **Using the Controls**: \n",
            "   - Familiarize yourself with the location and operation of essential controls, including the steering \n",
            "wheel, pedals (accelerator, brake, and clutch if manual), indicators, and headlights. \n",
            "   - Use your mirrors to check for any obstacles or other vehicles around you. \n",
            " \n",
            "4. **Driving Safely**: \n",
            "   - Always observe speed limits and road signs. \n",
            "   - Maintain a safe following distance from the vehicle in front of you. \n",
            "   - Use indicators to signal your intentions to other drivers. \n",
            "   - Be aware of pedestrians, cyclists, and other road users. \n",
            "   - Avoid distractions such as using your phone while driving. \n",
            " \n",
            "5. **Parking**: \n",
            "   - Find a safe and legal parking spot. \n",
            "   - Use your mirrors and signals to park the car safely. \n",
            "   - Turn off the engine, apply the parking brake, and lock the car. \n",
            " \n",
            "By following these basic steps and safety tips, you can ensure a safer driving experience for yourself \n",
            "and others on the road. \n",
            "\n",
            "Answer:\n",
            " {'score': 0.4883623421192169, 'start': 1226, 'end': 1277, 'answer': 'Use your mirrors and signals to park the car safely'}\n"
          ]
        }
      ]
    }
  ]
}